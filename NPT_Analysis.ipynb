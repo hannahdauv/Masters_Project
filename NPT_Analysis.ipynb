{
 "cells": [
  {
   "cell_type": "code",
   "execution_count": 1,
   "id": "10b7f2b8",
   "metadata": {},
   "outputs": [],
   "source": [
    "import subprocess\n",
    "import os\n",
    "import re\n",
    "\n",
    "\n",
    "def run_lammps_simulation(input_file, output_file, seed):\n",
    "    # Modify the input file to include the random seed\n",
    "    with open(input_file, 'r') as file:\n",
    "        data = file.readlines()\n",
    "    \n",
    "    # Find the line where the random seed is set and modify it\n",
    "    for i, line in enumerate(data):\n",
    "        if 'velocity     all create' in line:\n",
    "            data[i] = f\"velocity     all create 300.0 {seed} mom yes rot yes dist gaussian\\n\"\n",
    "            break\n",
    "    \n",
    "    # Write the modified input file\n",
    "    with open(input_file, 'w') as file:\n",
    "        file.writelines(data)\n",
    "    \n",
    "    # Run the LAMMPS simulation\n",
    "    subprocess.run(['lmp_serial', '-in', input_file])\n",
    "\n",
    "    # After running, extract the thermal conductivity value from the output file\n",
    "    with open(output_file, 'r') as file:\n",
    "        lines = file.readlines()\n",
    "        for line in lines:\n",
    "            # Look for the line that contains 'average conductivity'\n",
    "            if 'average conductivity' in line:\n",
    "                # Extract the numeric value using a regex pattern\n",
    "                match = re.search(r'average conductivity: ([0-9.e+-]+)', line)\n",
    "                if match:\n",
    "                    k_value = float(match.group(1))  # Extracted value\n",
    "                    return k_value\n",
    "    \n",
    "    return None\n",
    "\n",
    "def run_simulations(input_file, output_file, num_runs):\n",
    "    results = []\n",
    "    for i in range(num_runs):\n",
    "        seed = 102486 + i  # You can use any formula for the seed, or randomize\n",
    "        print(f\"Running simulation {i+1} with seed {seed}\")\n",
    "        k_value = run_lammps_simulation(input_file, output_file, seed)\n",
    "        if k_value is not None:\n",
    "            results.append(k_value)\n",
    "        else:\n",
    "            print(f\"Simulation {i+1} failed to extract conductivity.\")\n",
    "    \n",
    "    return results"
   ]
  },
  {
   "cell_type": "code",
   "execution_count": 2,
   "id": "d3d03cde",
   "metadata": {},
   "outputs": [
    {
     "name": "stdout",
     "output_type": "stream",
     "text": [
      "Running simulation 1 with seed 102486\n",
      "Running simulation 2 with seed 102487\n",
      "Running simulation 3 with seed 102488\n",
      "Running simulation 4 with seed 102489\n",
      "Running simulation 5 with seed 102490\n",
      "Running simulation 6 with seed 102491\n",
      "Running simulation 7 with seed 102492\n",
      "Running simulation 8 with seed 102493\n",
      "Running simulation 9 with seed 102494\n",
      "Running simulation 10 with seed 102495\n",
      "Thermal conductivity results:\n",
      "Run 1: 0.244489897107247 W/mK\n",
      "Run 2: 0.250525184566345 W/mK\n",
      "Run 3: 0.252031211623638 W/mK\n",
      "Run 4: 0.261921130455234 W/mK\n",
      "Run 5: 0.246312727387426 W/mK\n",
      "Run 6: 0.238258551182505 W/mK\n",
      "Run 7: 0.257519778209373 W/mK\n",
      "Run 8: 0.259383984803866 W/mK\n",
      "Run 9: 0.227171850848178 W/mK\n",
      "Run 10: 0.234615556581908 W/mK\n"
     ]
    }
   ],
   "source": [
    "# Define the paths to files\n",
    "input_file_hom = 'pressure_hom.txt'\n",
    "output_file_hom = 'log.lammps'  # output filename\n",
    "\n",
    "# Run the simulations\n",
    "results = run_simulations(input_file_hom, output_file_hom, 10)  # Run 10 simulations\n",
    "\n",
    "# Print the results\n",
    "print(\"Thermal conductivity results:\")\n",
    "for i, k in enumerate(results, 1):\n",
    "    print(f\"Run {i}: {k} W/mK\")"
   ]
  },
  {
   "cell_type": "code",
   "execution_count": 3,
   "id": "2ad68607",
   "metadata": {},
   "outputs": [
    {
     "name": "stdout",
     "output_type": "stream",
     "text": [
      "[0.244489897107247, 0.250525184566345, 0.252031211623638, 0.261921130455234, 0.246312727387426, 0.238258551182505, 0.257519778209373, 0.259383984803866, 0.227171850848178, 0.234615556581908]\n"
     ]
    }
   ],
   "source": [
    "results_hom=results\n",
    "print(results_hom)"
   ]
  },
  {
   "cell_type": "code",
   "execution_count": 4,
   "id": "e936c3d1",
   "metadata": {},
   "outputs": [
    {
     "name": "stdout",
     "output_type": "stream",
     "text": [
      "Running simulation 1 with seed 102486\n",
      "Running simulation 2 with seed 102487\n",
      "Running simulation 3 with seed 102488\n",
      "Running simulation 4 with seed 102489\n",
      "Running simulation 5 with seed 102490\n",
      "Running simulation 6 with seed 102491\n",
      "Running simulation 7 with seed 102492\n",
      "Running simulation 8 with seed 102493\n",
      "Running simulation 9 with seed 102494\n",
      "Running simulation 10 with seed 102495\n",
      "Thermal conductivity results:\n",
      "Run 1: 0.244489897107247 W/mK\n",
      "Run 2: 0.250525184566345 W/mK\n",
      "Run 3: 0.252031211623638 W/mK\n",
      "Run 4: 0.261921130455234 W/mK\n",
      "Run 5: 0.246312727387426 W/mK\n",
      "Run 6: 0.238258551182505 W/mK\n",
      "Run 7: 0.257519778209373 W/mK\n",
      "Run 8: 0.259383984803866 W/mK\n",
      "Run 9: 0.227171850848178 W/mK\n",
      "Run 10: 0.234615556581908 W/mK\n"
     ]
    }
   ],
   "source": [
    "# Define the paths to files\n",
    "input_file_mix1 = 'pressure_mixed_1.txt'\n",
    "output_file_mix1 = 'log.lammps'  # output filename\n",
    "\n",
    "# Run the simulations\n",
    "results_mix1 = run_simulations(input_file_mix1, output_file_mix1, 10)  # Run 10 simulations\n",
    "\n",
    "# Print the results\n",
    "print(\"Thermal conductivity results:\")\n",
    "for i, k in enumerate(results, 1):\n",
    "    print(f\"Run {i}: {k} W/mK\")"
   ]
  },
  {
   "cell_type": "code",
   "execution_count": 5,
   "id": "5d9f1485",
   "metadata": {},
   "outputs": [
    {
     "name": "stdout",
     "output_type": "stream",
     "text": [
      "[0.237481191332691, 0.224731931893129, 0.246020190819497, 0.255223875756399, 0.227576821565241, 0.24747532449001, 0.260917033086637, 0.262443336467263, 0.242801138036337, 0.248204523348191]\n"
     ]
    }
   ],
   "source": [
    "print(results_mix1)"
   ]
  },
  {
   "cell_type": "code",
   "execution_count": 14,
   "id": "23686544",
   "metadata": {},
   "outputs": [
    {
     "name": "stdout",
     "output_type": "stream",
     "text": [
      "Running simulation 1 with seed 102486\n",
      "Running simulation 2 with seed 102487\n",
      "Running simulation 3 with seed 102488\n",
      "Running simulation 4 with seed 102489\n",
      "Running simulation 5 with seed 102490\n",
      "Running simulation 6 with seed 102491\n",
      "Running simulation 7 with seed 102492\n",
      "Running simulation 8 with seed 102493\n",
      "Running simulation 9 with seed 102494\n",
      "Running simulation 10 with seed 102495\n",
      "Thermal conductivity results:\n",
      "Run 1: 0.268254760233939 W/mK\n",
      "Run 2: 0.266494843159522 W/mK\n",
      "Run 3: 0.269965027847079 W/mK\n",
      "Run 4: 0.263294011453189 W/mK\n",
      "Run 5: 0.237054574556742 W/mK\n",
      "Run 6: 0.248739246462696 W/mK\n",
      "Run 7: 0.232495762010466 W/mK\n",
      "Run 8: 0.207081279993575 W/mK\n",
      "Run 9: 0.282000371666734 W/mK\n",
      "Run 10: 0.24521380879418 W/mK\n"
     ]
    }
   ],
   "source": [
    "# Define the paths to files\n",
    "input_file_mix2 = 'pressure_mixed_2.txt'\n",
    "output_file_mix2 = 'log.lammps'  # output filename\n",
    "\n",
    "# Run the simulations\n",
    "results_mix2 = run_simulations(input_file_mix2, output_file_mix2, 10)  # Run 10 simulations\n",
    "\n",
    "# Print the results\n",
    "print(\"Thermal conductivity results:\")\n",
    "for i, k in enumerate(results_mix2, 1):\n",
    "    print(f\"Run {i}: {k} W/mK\")"
   ]
  },
  {
   "cell_type": "code",
   "execution_count": 15,
   "id": "b085c7e5",
   "metadata": {},
   "outputs": [
    {
     "name": "stdout",
     "output_type": "stream",
     "text": [
      "[0.268254760233939, 0.266494843159522, 0.269965027847079, 0.263294011453189, 0.237054574556742, 0.248739246462696, 0.232495762010466, 0.207081279993575, 0.282000371666734, 0.24521380879418]\n"
     ]
    }
   ],
   "source": [
    "print(results_mix2)"
   ]
  },
  {
   "cell_type": "code",
   "execution_count": 16,
   "id": "fa934724",
   "metadata": {},
   "outputs": [
    {
     "name": "stdout",
     "output_type": "stream",
     "text": [
      "Running simulation 1 with seed 102486\n",
      "Running simulation 2 with seed 102487\n",
      "Running simulation 3 with seed 102488\n",
      "Running simulation 4 with seed 102489\n",
      "Running simulation 5 with seed 102490\n",
      "Running simulation 6 with seed 102491\n",
      "Running simulation 7 with seed 102492\n",
      "Running simulation 8 with seed 102493\n",
      "Running simulation 9 with seed 102494\n",
      "Running simulation 10 with seed 102495\n",
      "Thermal conductivity results:\n",
      "Run 1: 0.26500212386019 W/mK\n",
      "Run 2: 0.246523023308999 W/mK\n",
      "Run 3: 0.243120262673011 W/mK\n",
      "Run 4: 0.233379992340363 W/mK\n",
      "Run 5: 0.268208357360798 W/mK\n",
      "Run 6: 0.278154940474062 W/mK\n",
      "Run 7: 0.235164054276922 W/mK\n",
      "Run 8: 0.280981249269857 W/mK\n",
      "Run 9: 0.280140640904221 W/mK\n",
      "Run 10: 0.287096018700229 W/mK\n"
     ]
    }
   ],
   "source": [
    "# Define the paths to files\n",
    "input_file_mix3 = 'pressure_mixed_3.txt'\n",
    "output_file_mix3 = 'log.lammps'  # output filename\n",
    "\n",
    "# Run the simulations\n",
    "results_mix3 = run_simulations(input_file_mix3, output_file_mix3, 10)  # Run 10 simulations\n",
    "\n",
    "# Print the results\n",
    "print(\"Thermal conductivity results:\")\n",
    "for i, k in enumerate(results_mix3, 1):\n",
    "    print(f\"Run {i}: {k} W/mK\")"
   ]
  },
  {
   "cell_type": "code",
   "execution_count": 17,
   "id": "b5b2cdec",
   "metadata": {},
   "outputs": [
    {
     "name": "stdout",
     "output_type": "stream",
     "text": [
      "[0.26500212386019, 0.246523023308999, 0.243120262673011, 0.233379992340363, 0.268208357360798, 0.278154940474062, 0.235164054276922, 0.280981249269857, 0.280140640904221, 0.287096018700229]\n"
     ]
    }
   ],
   "source": [
    "print(results_mix3)"
   ]
  },
  {
   "cell_type": "code",
   "execution_count": 25,
   "id": "51eca5c6",
   "metadata": {},
   "outputs": [
    {
     "data": {
      "image/png": "[encoded data removed]",
      "text/plain": [
       "<Figure size 720x432 with 1 Axes>"
      ]
     },
     "metadata": {
      "needs_background": "light"
     },
     "output_type": "display_data"
    }
   ],
   "source": [
    "import numpy as np\n",
    "import matplotlib.pyplot as plt\n",
    "\n",
    "results_hom=results_hom\n",
    "results_pm10=results_mix1\n",
    "results_pm20=results_mix2\n",
    "results_pm30=results_mix3\n",
    "\n",
    "# Compute mean and SEM\n",
    "mean_hom = np.mean(results_hom)\n",
    "std_dev_hom = np.std(results_hom, ddof=1)  # Sample standard deviation (N-1)\n",
    "sem_hom = std_dev_hom / np.sqrt(len(results_hom))\n",
    "\n",
    "mean_pm10 = np.mean(results_pm10)\n",
    "std_dev_pm10 = np.std(results_pm10, ddof=1)  # Sample standard deviation (N-1)\n",
    "sem_pm10 = std_dev_pm10 / np.sqrt(len(results_pm10))\n",
    "\n",
    "mean_pm20 = np.mean(results_pm20)\n",
    "std_dev_pm20 = np.std(results_pm20, ddof=1)  # Sample standard deviation (N-1)\n",
    "sem_pm20 = std_dev_pm20 / np.sqrt(len(results_pm20))\n",
    "\n",
    "mean_pm30 = np.mean(results_pm30)\n",
    "std_dev_pm30 = np.std(results_pm30, ddof=1)  # Sample standard deviation (N-1)\n",
    "sem_pm30 = std_dev_pm30 / np.sqrt(len(results_pm30))\n",
    "\n",
    "x_data=(\"0%\", \"10%\", \"20%\", \"30%\")\n",
    "res = [mean_hom, mean_pm10, mean_pm20, mean_pm30]\n",
    "error= [sem_hom, sem_pm10, sem_pm20, sem_pm30]\n",
    "\n",
    "# Plot mean with error bar\n",
    "plt.figure(figsize=(10, 6))\n",
    "plt.errorbar(x_data, res, yerr=error, fmt='o', capsize=5)\n",
    "plt.xlabel(r'$\\sigma$ Difference Between 1-1 and 2-2 Atom Types', fontsize=14)\n",
    "plt.ylabel('Thermal Conductivity (W/mK)', fontsize=14)\n",
    "plt.grid(True)\n",
    "plt.savefig('pressure_tc_plot.pdf')\n",
    "plt.show()"
   ]
  },
  {
   "cell_type": "code",
   "execution_count": 24,
   "id": "4b9b6b2b",
   "metadata": {},
   "outputs": [
    {
     "name": "stdout",
     "output_type": "stream",
     "text": [
      "0.24722298727657196\n",
      "0.24528753667953945\n",
      "0.2520593686178122\n",
      "0.2617770663168652\n"
     ]
    }
   ],
   "source": [
    "print(np.mean(results_hom))\n",
    "print(np.mean(results_pm10))\n",
    "print(np.mean(results_pm20))\n",
    "print(np.mean(results_pm30))"
   ]
  },
  {
   "cell_type": "code",
   "execution_count": null,
   "id": "b1e514f5",
   "metadata": {},
   "outputs": [],
   "source": []
  }
 ],
 "metadata": {
  "kernelspec": {
   "display_name": "Python 3",
   "language": "python",
   "name": "python3"
  },
  "language_info": {
   "codemirror_mode": {
    "name": "ipython",
    "version": 3
   },
   "file_extension": ".py",
   "mimetype": "text/x-python",
   "name": "python",
   "nbconvert_exporter": "python",
   "pygments_lexer": "ipython3",
   "version": "3.8.8"
  }
 },
 "nbformat": 4,
 "nbformat_minor": 5
}
