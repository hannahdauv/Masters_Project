{
 "cells": [
  {
   "cell_type": "code",
   "execution_count": 11,
   "id": "b2c455b7",
   "metadata": {},
   "outputs": [
    {
     "name": "stdout",
     "output_type": "stream",
     "text": [
      "Running simulation 1 with seed 102486\n",
      "Running simulation 2 with seed 102487\n",
      "Running simulation 3 with seed 102488\n",
      "Running simulation 4 with seed 102489\n",
      "Running simulation 5 with seed 102490\n",
      "Running simulation 6 with seed 102491\n",
      "Running simulation 7 with seed 102492\n",
      "Running simulation 8 with seed 102493\n",
      "Running simulation 9 with seed 102494\n",
      "Running simulation 10 with seed 102495\n",
      "Thermal conductivity results:\n",
      "Run 1: 0.291769297141165 W/mK\n",
      "Run 2: 0.328044290602053 W/mK\n",
      "Run 3: 0.271378479247555 W/mK\n",
      "Run 4: 0.246476772220032 W/mK\n",
      "Run 5: 0.236773774884863 W/mK\n",
      "Run 6: 0.270039294238975 W/mK\n",
      "Run 7: 0.240671374351345 W/mK\n",
      "Run 8: 0.296936705540613 W/mK\n",
      "Run 9: 0.257436036439933 W/mK\n",
      "Run 10: 0.326600912930482 W/mK\n"
     ]
    }
   ],
   "source": [
    "import subprocess\n",
    "import os\n",
    "import re\n",
    "\n",
    "def run_lammps_simulation(input_file, output_file, seed):\n",
    "    # Modify the input file to include the random seed\n",
    "    with open(input_file, 'r') as file:\n",
    "        data = file.readlines()\n",
    "    \n",
    "    # Find the line where the random seed is set and modify it\n",
    "    for i, line in enumerate(data):\n",
    "        if 'velocity     all create' in line:\n",
    "            data[i] = f\"velocity     all create 300.0 {seed} mom yes rot yes dist gaussian\\n\"\n",
    "            break\n",
    "    \n",
    "    # Write the modified input file\n",
    "    with open(input_file, 'w') as file:\n",
    "        file.writelines(data)\n",
    "    \n",
    "    # Run the LAMMPS simulation\n",
    "    subprocess.run(['lmp_serial', '-in', input_file])\n",
    "\n",
    "    # After running, extract the thermal conductivity value from the output file\n",
    "    with open(output_file, 'r') as file:\n",
    "        lines = file.readlines()\n",
    "        for line in lines:\n",
    "            # Look for the line that contains 'average conductivity'\n",
    "            if 'average conductivity' in line:\n",
    "                # Extract the numeric value using a regex pattern\n",
    "                match = re.search(r'average conductivity: ([0-9.e+-]+)', line)\n",
    "                if match:\n",
    "                    k_value = float(match.group(1))  # Extracted value\n",
    "                    return k_value\n",
    "    \n",
    "    return None\n",
    "\n",
    "def run_simulations(input_file, output_file, num_runs):\n",
    "    results = []\n",
    "    for i in range(num_runs):\n",
    "        seed = 102486 + i  # You can use any formula for the seed, or randomize\n",
    "        print(f\"Running simulation {i+1} with seed {seed}\")\n",
    "        k_value = run_lammps_simulation(input_file, output_file, seed)\n",
    "        if k_value is not None:\n",
    "            results.append(k_value)\n",
    "        else:\n",
    "            print(f\"Simulation {i+1} failed to extract conductivity.\")\n",
    "    \n",
    "    return results\n",
    "\n",
    "# Define the paths to files\n",
    "input_file = 'LJsim_diffatoms.txt'\n",
    "output_file = 'log.lammps'  # output filename\n",
    "\n",
    "# Run the simulations\n",
    "results = run_simulations(input_file, output_file, 10)  # Run 10 simulations\n",
    "\n",
    "# Print the results\n",
    "print(\"Thermal conductivity results:\")\n",
    "for i, k in enumerate(results, 1):\n",
    "    print(f\"Run {i}: {k} W/mK\")"
   ]
  },
  {
   "cell_type": "code",
   "execution_count": 13,
   "id": "059b2c42",
   "metadata": {},
   "outputs": [],
   "source": [
    "import csv\n",
    "\n",
    "# Save the results to a CSV file\n",
    "with open('thermal_conductivity_results.csv', 'w', newline='') as csvfile:\n",
    "    writer = csv.writer(csvfile)\n",
    "    writer.writerow([\"Run\", \"Thermal Conductivity (W/mK)\"])  # Write headers\n",
    "    for i, k in enumerate(results, 1):\n",
    "        writer.writerow([i, k])  # Write each result as a new row"
   ]
  },
  {
   "cell_type": "code",
   "execution_count": null,
   "id": "c9f30c4d",
   "metadata": {},
   "outputs": [],
   "source": []
  }
 ],
 "metadata": {
  "kernelspec": {
   "display_name": "Python 3",
   "language": "python",
   "name": "python3"
  },
  "language_info": {
   "codemirror_mode": {
    "name": "ipython",
    "version": 3
   },
   "file_extension": ".py",
   "mimetype": "text/x-python",
   "name": "python",
   "nbconvert_exporter": "python",
   "pygments_lexer": "ipython3",
   "version": "3.8.8"
  }
 },
 "nbformat": 4,
 "nbformat_minor": 5
}
