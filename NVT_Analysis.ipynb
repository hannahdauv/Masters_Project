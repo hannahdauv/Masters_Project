{
 "cells": [
  {
   "cell_type": "code",
   "execution_count": 1,
   "id": "13153072",
   "metadata": {},
   "outputs": [
    {
     "name": "stdout",
     "output_type": "stream",
     "text": [
      "Running simulation 1 with seed 102486\n",
      "Running simulation 2 with seed 102487\n",
      "Running simulation 3 with seed 102488\n",
      "Running simulation 4 with seed 102489\n",
      "Running simulation 5 with seed 102490\n",
      "Running simulation 6 with seed 102491\n",
      "Running simulation 7 with seed 102492\n",
      "Running simulation 8 with seed 102493\n",
      "Running simulation 9 with seed 102494\n",
      "Running simulation 10 with seed 102495\n",
      "Thermal conductivity results:\n",
      "Run 1: 0.272721788851338 W/mK\n",
      "Run 2: 0.275460168813128 W/mK\n",
      "Run 3: 0.264410013497934 W/mK\n",
      "Run 4: 0.26183218167908 W/mK\n",
      "Run 5: 0.257603832082389 W/mK\n",
      "Run 6: 0.263000593404672 W/mK\n",
      "Run 7: 0.285958889706002 W/mK\n",
      "Run 8: 0.274390261976748 W/mK\n",
      "Run 9: 0.279176845966347 W/mK\n",
      "Run 10: 0.285629363540971 W/mK\n"
     ]
    }
   ],
   "source": [
    "# +/- 10% MIXED SIGMA\n",
    "\n",
    "import subprocess\n",
    "import os\n",
    "import re\n",
    "\n",
    "\n",
    "def run_lammps_simulation(input_file, output_file, seed):\n",
    "    # Modify the input file to include the random seed\n",
    "    with open(input_file, 'r') as file:\n",
    "        data = file.readlines()\n",
    "    \n",
    "    # Find the line where the random seed is set and modify it\n",
    "    for i, line in enumerate(data):\n",
    "        if 'velocity     all create' in line:\n",
    "            data[i] = f\"velocity     all create 300.0 {seed} mom yes rot yes dist gaussian\\n\"\n",
    "            break\n",
    "    \n",
    "    # Write the modified input file\n",
    "    with open(input_file, 'w') as file:\n",
    "        file.writelines(data)\n",
    "    \n",
    "    # Run the LAMMPS simulation\n",
    "    subprocess.run(['lmp_serial', '-in', input_file])\n",
    "\n",
    "    # After running, extract the thermal conductivity value from the output file\n",
    "    with open(output_file, 'r') as file:\n",
    "        lines = file.readlines()\n",
    "        for line in lines:\n",
    "            # Look for the line that contains 'average conductivity'\n",
    "            if 'average conductivity' in line:\n",
    "                # Extract the numeric value using a regex pattern\n",
    "                match = re.search(r'average conductivity: ([0-9.e+-]+)', line)\n",
    "                if match:\n",
    "                    k_value = float(match.group(1))  # Extracted value\n",
    "                    return k_value\n",
    "    \n",
    "    return None\n",
    "\n",
    "def run_simulations(input_file, output_file, num_runs):\n",
    "    results = []\n",
    "    for i in range(num_runs):\n",
    "        seed = 102486 + i  # You can use any formula for the seed, or randomize\n",
    "        print(f\"Running simulation {i+1} with seed {seed}\")\n",
    "        k_value = run_lammps_simulation(input_file, output_file, seed)\n",
    "        if k_value is not None:\n",
    "            results.append(k_value)\n",
    "        else:\n",
    "            print(f\"Simulation {i+1} failed to extract conductivity.\")\n",
    "    \n",
    "    return results\n",
    "\n",
    "# Define the paths to files\n",
    "input_file_long = 'LJsim_diff_2.txt'\n",
    "output_file_long = 'log.lammps'  # output filename\n",
    "\n",
    "# Run the simulations\n",
    "results_long = run_simulations(input_file_long, output_file_long, 10)  # Run 10 simulations\n",
    "\n",
    "# Print the results\n",
    "print(\"Thermal conductivity results:\")\n",
    "for i, k in enumerate(results_long, 1):\n",
    "    print(f\"Run {i}: {k} W/mK\")"
   ]
  },
  {
   "cell_type": "code",
   "execution_count": 2,
   "id": "8c4e4c03",
   "metadata": {},
   "outputs": [
    {
     "name": "stdout",
     "output_type": "stream",
     "text": [
      "[0.272721788851338, 0.275460168813128, 0.264410013497934, 0.26183218167908, 0.257603832082389, 0.263000593404672, 0.285958889706002, 0.274390261976748, 0.279176845966347, 0.285629363540971]\n"
     ]
    }
   ],
   "source": [
    "print(results_long)"
   ]
  },
  {
   "cell_type": "code",
   "execution_count": 3,
   "id": "f49e35ee",
   "metadata": {},
   "outputs": [],
   "source": [
    "results_hom=[0.251460492643156, 0.26104141592588, 0.246362537453332, 0.2307519680747, 0.276345295004117, 0.257361888469306, 0.274633232635503, 0.218804294291411, 0.259661963697333, 0.242839760350177]"
   ]
  },
  {
   "cell_type": "code",
   "execution_count": 11,
   "id": "2e39e758",
   "metadata": {},
   "outputs": [],
   "source": [
    "results_pm10=results_long\n",
    "results_pm20=[0.328553864708699, 0.320316005207721, 0.345520838263367, 0.288195032934921, 0.295839754529992, 0.32335461308899, 0.240036017073214, 0.321470170116332, 0.353827865284941, 0.292774925468544]"
   ]
  },
  {
   "cell_type": "code",
   "execution_count": 27,
   "id": "58b693ce",
   "metadata": {},
   "outputs": [],
   "source": [
    "results_pm30=[0.310812816877081, 0.363718817792609, 0.377265903514055, 0.433801986968354, 0.386461391463825, 0.370791513004054, 0.240036017073214, 0.422808995420735, 0.354318623130586, 0.350789256049633]"
   ]
  },
  {
   "cell_type": "code",
   "execution_count": 30,
   "id": "3a91d2c1",
   "metadata": {},
   "outputs": [
    {
     "data": {
      "image/png": "[encoded data removed]",
      "text/plain": [
       "<Figure size 720x432 with 1 Axes>"
      ]
     },
     "metadata": {
      "needs_background": "light"
     },
     "output_type": "display_data"
    }
   ],
   "source": [
    "import numpy as np\n",
    "import matplotlib.pyplot as plt\n",
    "\n",
    "\n",
    "# Compute mean and SEM\n",
    "mean_hom = np.mean(results_hom)\n",
    "std_dev_hom = np.std(results_hom, ddof=1)  # Sample standard deviation (N-1)\n",
    "sem_hom = std_dev_hom / np.sqrt(len(results_hom))\n",
    "\n",
    "mean_pm10 = np.mean(results_pm10)\n",
    "std_dev_pm10 = np.std(results_pm10, ddof=1)  # Sample standard deviation (N-1)\n",
    "sem_pm10 = std_dev_pm10 / np.sqrt(len(results_pm10))\n",
    "\n",
    "mean_pm20 = np.mean(results_pm20)\n",
    "std_dev_pm20 = np.std(results_pm20, ddof=1)  # Sample standard deviation (N-1)\n",
    "sem_pm20 = std_dev_pm20 / np.sqrt(len(results_pm20))\n",
    "\n",
    "mean_pm30 = np.mean(results_pm30)\n",
    "std_dev_pm30 = np.std(results_pm30, ddof=1)  # Sample standard deviation (N-1)\n",
    "sem_pm30 = std_dev_pm30 / np.sqrt(len(results_pm30))\n",
    "\n",
    "x_data=(\"0%\", \"10%\", \"20%\", \"30%\")\n",
    "res = [mean_hom, mean_pm10, mean_pm20, mean_pm30]\n",
    "error= [sem_hom, sem_pm10, sem_pm20, sem_pm30]\n",
    "\n",
    "# Plot mean with error bar\n",
    "plt.figure(figsize=(10, 6))\n",
    "plt.errorbar(x_data, res, yerr=error, fmt='o', capsize=5)\n",
    "plt.xlabel(r'$\\sigma$ Difference Between 1-1 and 2-2 Atom Types', fontsize=14)\n",
    "plt.ylabel('Thermal Conductivity (W/mK)', fontsize=14)\n",
    "plt.grid(True)\n",
    "plt.show()"
   ]
  },
  {
   "cell_type": "markdown",
   "id": "45937689",
   "metadata": {},
   "source": [
    "Average thermal conductivity as a function of increasing Lennard-Jones parameter variation as a source of controlled disorder. The x-axis shows the difference in the Lennard-Jones parameter $\\sigma$ between 1-1 and 2-2 atom types. The data points represent the mean thermal conductivity across 10 independent simulation runs, with error bars indicating the standard error of the mean (SEM). The homogeneous case (0% variation) serves as a reference, while increasing disorder levels (10%, 20%, 30%) correspond to larger deviations in $\\sigma$ values for type 1-1 and type 2-2 interactions."
   ]
  },
  {
   "cell_type": "code",
   "execution_count": 31,
   "id": "a4bc7cce",
   "metadata": {},
   "outputs": [],
   "source": [
    "pressure_mean=[8381.78, 9049.89, 11567.46, 16995.96]\n",
    "pressure_std = [355.5, 367.12, 378.08, 425.75]"
   ]
  },
  {
   "cell_type": "code",
   "execution_count": 36,
   "id": "fbf23dc3",
   "metadata": {},
   "outputs": [],
   "source": [
    "import numpy as np\n",
    "\n",
    "# Given pressure data\n",
    "pressure_values = [\n",
    "    17356.672, 17357.478, 16749.172, 16907.946, 17003.113, 16478.4, 16977.366, 16659.94,\n",
    "    17910.577, 17013.474, 18448.411, 17525.044, 16820.378, 16992.232, 16749.935, 17594.469,\n",
    "    16879.437, 16747.822, 16367.733, 17356.848, 16824.71, 17679.407, 16867.784, 16754.654,\n",
    "    17138.011, 16786.96, 16789.968, 16555.899, 16281.92, 16743.602, 16878.545, 16440.551,\n",
    "    17485.403, 17043.69, 16823.181, 17320.991, 16750.953, 17040.29, 17424.783, 17690.286,\n",
    "    17097.559, 16322.813, 17096.203, 16825.06, 16507.498, 17073.461, 17412.955, 16871.388,\n",
    "    16918.186, 16965.256, 16485.482\n",
    "]"
   ]
  },
  {
   "cell_type": "code",
   "execution_count": 37,
   "id": "a79bb9e3",
   "metadata": {},
   "outputs": [],
   "source": [
    "pressure_sem = pressure_std / np.sqrt(len(pressure_values))"
   ]
  },
  {
   "cell_type": "code",
   "execution_count": 38,
   "id": "f8a90bf8",
   "metadata": {},
   "outputs": [
    {
     "name": "stdout",
     "output_type": "stream",
     "text": [
      "[49.77995699 51.40708244 52.94178942 59.61692458]\n"
     ]
    }
   ],
   "source": [
    "print(pressure_sem)"
   ]
  },
  {
   "cell_type": "code",
   "execution_count": 39,
   "id": "3a12be92",
   "metadata": {},
   "outputs": [
    {
     "data": {
      "image/png": "[encoded data removed]",
      "text/plain": [
       "<Figure size 720x432 with 1 Axes>"
      ]
     },
     "metadata": {
      "needs_background": "light"
     },
     "output_type": "display_data"
    }
   ],
   "source": [
    "# Plot mean with error bar\n",
    "plt.figure(figsize=(10, 6))\n",
    "plt.errorbar(x_data, pressure_mean, yerr=pressure_sem, fmt='o', capsize=5)\n",
    "plt.xlabel(r'$\\sigma$ Difference Between 1-1 and 2-2 Atom Types', fontsize=14)\n",
    "plt.ylabel('Pressure (atm)', fontsize=14)\n",
    "plt.grid(True)\n",
    "plt.show()"
   ]
  },
  {
   "cell_type": "code",
   "execution_count": 47,
   "id": "ab0cf145",
   "metadata": {},
   "outputs": [
    {
     "data": {
      "image/png": "[encoded data removed]",
      "text/plain": [
       "<Figure size 720x432 with 2 Axes>"
      ]
     },
     "metadata": {
      "needs_background": "light"
     },
     "output_type": "display_data"
    }
   ],
   "source": [
    "import numpy as np\n",
    "import matplotlib.pyplot as plt\n",
    "\n",
    "x_data = (\"0%\", \"10%\", \"20%\", \"30%\")\n",
    "thermal_conductivity = [mean_hom, mean_pm10, mean_pm20, mean_pm30]\n",
    "thermal_error = [sem_hom, sem_pm10, sem_pm20, sem_pm30]\n",
    "\n",
    "# Create figure and first axis (for thermal conductivity)\n",
    "fig, ax1 = plt.subplots(figsize=(10, 6))\n",
    "\n",
    "ax1.set_xlabel(r'$\\sigma$ Difference Between 1-1 and 2-2 Atom Types', fontsize=14)\n",
    "ax1.set_ylabel('Thermal Conductivity (W/mK)', color='tab:blue', fontsize=14)\n",
    "ax1.errorbar(x_data, thermal_conductivity, yerr=thermal_error, fmt='o', capsize=5, color='tab:blue', label='Thermal Conductivity')\n",
    "ax1.tick_params(axis='y', labelcolor='tab:blue')\n",
    "\n",
    "# Create second axis (for pressure)\n",
    "ax2 = ax1.twinx()\n",
    "ax2.set_ylabel('Pressure (atm)', color='tab:red', fontsize=14)\n",
    "ax2.errorbar(x_data, pressure_mean, fmt='s', capsize=5, color='tab:red', label='Pressure')\n",
    "ax2.tick_params(axis='y', labelcolor='tab:red')\n",
    "\n",
    "# Grid and legend\n",
    "ax1.grid(True)\n",
    "fig.tight_layout()\n",
    "#plt.title('Thermal Conductivity and Pressure vs. σ Difference', fontsize=16)\n",
    "fig.legend(loc=\"upper left\", bbox_to_anchor=(0.1,0.9))\n",
    "plt.savefig('pressure_tc.pdf')\n",
    "plt.show()\n",
    "\n"
   ]
  },
  {
   "cell_type": "code",
   "execution_count": null,
   "id": "b7dea887",
   "metadata": {},
   "outputs": [],
   "source": []
  }
 ],
 "metadata": {
  "kernelspec": {
   "display_name": "Python 3",
   "language": "python",
   "name": "python3"
  },
  "language_info": {
   "codemirror_mode": {
    "name": "ipython",
    "version": 3
   },
   "file_extension": ".py",
   "mimetype": "text/x-python",
   "name": "python",
   "nbconvert_exporter": "python",
   "pygments_lexer": "ipython3",
   "version": "3.8.8"
  }
 },
 "nbformat": 4,
 "nbformat_minor": 5
}
